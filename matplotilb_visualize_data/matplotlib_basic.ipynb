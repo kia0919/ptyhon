{
 "cells": [
  {
   "cell_type": "markdown",
   "metadata": {},
   "source": [
    "### 데이터 시각화 패키지 맷플롯리브\n",
    "matplotlib 패키지는 파이선에서 데이터를 차트 혹은 플롯으로 시각화하는 패키지  \n",
    "- 선형 그래프(line plot)  \n",
    "- 점 그래프(scatter plot)  \n",
    "- 등고선(contour plot)  \n",
    "- 표면도(surface plot)  \n",
    "- 막대 그래프(bar chart)  \n",
    "- 히스토그램(histogram)  \n",
    "- 박스 그래프(box plot)"
   ]
  },
  {
   "cell_type": "markdown",
   "metadata": {},
   "source": [
    "### `pyplot` 하위 패키지\n",
    "간단한 시각화 자료를 만들때 사용되는 matplotlib의 하위 패키지  \n",
    "matplotlib 패키지를 직접 사용하지 않고 단순히 pyplot 만으로 시각화를 할 수 있음"
   ]
  },
  {
   "cell_type": "markdown",
   "metadata": {},
   "source": [
    "```python\n",
    "import matplotlib as mpl\n",
    "import matplotlib.pyplot as plt\n",
    "```"
   ]
  },
  {
   "cell_type": "code",
   "execution_count": 13,
   "metadata": {},
   "outputs": [],
   "source": [
    "import matplotlib as mpl\n",
    "import matplotlib.pyplot as plt\n",
    "import pandas as pd"
   ]
  },
  {
   "cell_type": "code",
   "execution_count": 14,
   "metadata": {},
   "outputs": [
    {
     "data": {
      "text/plain": [
       "서울    990\n",
       "부산    345\n",
       "인천    290\n",
       "대구    246\n",
       "dtype: int64"
      ]
     },
     "execution_count": 14,
     "metadata": {},
     "output_type": "execute_result"
    }
   ],
   "source": [
    "s = pd.Series([990, 345, 290, 246], index=['서울', '부산', '인천', '대구'])\n",
    "s"
   ]
  },
  {
   "cell_type": "code",
   "execution_count": 15,
   "metadata": {},
   "outputs": [],
   "source": [
    "%matplotlib inline"
   ]
  },
  {
   "cell_type": "code",
   "execution_count": 16,
   "metadata": {},
   "outputs": [],
   "source": [
    "# matplotlib 한글 표시 설정\n",
    "import matplotlib.font_manager as fm\n",
    "\n",
    "# matplotlib의 글꼴 관리자에 특정 글꼴 추가\n",
    "fe = fm.FontEntry(\n",
    "    fname=r'font/NanumGothic.ttf',\n",
    "    name= 'NanumGothic'\n",
    ")\n",
    "fm.fontManager.ttflist.insert(0, fe)\n",
    "\n",
    "# pyplot에 matplotlib의 글골 관지라에 등록된 글꼴 적용\n",
    "plt.rcParams.update({ 'font.family': 'NanumGothic', 'font.size': 14 })\n",
    "\n",
    "# pyplot에서 '-' 를 문자로 취급하도록 설정\n",
    "plt.rcParams['axes.unicode_minus']=False"
   ]
  },
  {
   "cell_type": "markdown",
   "metadata": {},
   "source": [
    "### 차트의 종류\n",
    "\n",
    "**막대 그래프** : 데이터의 카테고리 별  값을 막대로 나타내는 방식(수직 막대 그래프. 수평 막대 그래프)  \n",
    "> 카테고리별로 비교할 대 주로 사용됨(제품별 판매량, 지역별 인구수)  \n",
    "  \n",
    "**선 그래프**: 시간의 흐름에 따른  데이터 포인터를 선으로 연결하여 나타내는 방식  \n",
    "> 시간의 흐름에 따라 비교할 때 주로 사용됨 (기온의 변화, 주식 가격)  \n",
    "  \n",
    "**파이 차트**: 전체에 대한 비율을 원형으로 나타내는 방식 (각 조각의 크기가 해당 부분의 비율)  \n",
    "> 전체에 대한 비율을 비교할 때 주로 사용됨 (여론조사 결과)  \n",
    "  \n",
    "  **산점도**: 두 변수 간의 상관 관계를 점들의 분포로 나타내는 방식\n",
    "  > 두 변수의 상관 관계를 파악할 때 주로 사용됨(키와 몸무게의 상관관계, )  \n",
    "  \n"
   ]
  },
  {
   "cell_type": "code",
   "execution_count": null,
   "metadata": {},
   "outputs": [],
   "source": []
  }
 ],
 "metadata": {
  "kernelspec": {
   "display_name": "Python 3",
   "language": "python",
   "name": "python3"
  },
  "language_info": {
   "codemirror_mode": {
    "name": "ipython",
    "version": 3
   },
   "file_extension": ".py",
   "mimetype": "text/x-python",
   "name": "python",
   "nbconvert_exporter": "python",
   "pygments_lexer": "ipython3",
   "version": "3.12.2"
  }
 },
 "nbformat": 4,
 "nbformat_minor": 2
}
