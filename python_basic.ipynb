{
 "cells": [
  {
   "cell_type": "code",
   "execution_count": null,
   "metadata": {},
   "outputs": [],
   "source": [
    "# 파이썬은 자바와 같이 {  } 로 코드를 묶는 기호가 따로 없다.\n",
    "# 그러므로 한 블럭의 실행코드를 나누기 위해서는 작성하고자 하는 코드의 윗줄의 시작점과 맞춰서 공백을 주면 한블럭의 코드로 인식한다.\n",
    "# 한블럭의 코드를 끝내고 새로운 코드를 만들고자 하면은, 공백없이 구문을 작성하거나, 윗줄과 다른 열에 작성하면 된다."
   ]
  }
 ],
 "metadata": {
  "language_info": {
   "name": "python"
  }
 },
 "nbformat": 4,
 "nbformat_minor": 2
}
